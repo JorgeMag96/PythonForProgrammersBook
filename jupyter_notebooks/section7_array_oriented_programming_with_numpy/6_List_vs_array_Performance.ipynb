{
 "cells": [
  {
   "cell_type": "markdown",
   "metadata": {},
   "source": [
    "# 7.6 List vs. array Performance: Introducing %timeit\n",
    "Most array operations execute significantly faster than corresponding list operations. To demonstrate, we'll use the IPython <b>%timeit magic</b> command, which times the average duration of operations. Note that the times displayed on your system may vary from what we show here."
   ]
  },
  {
   "cell_type": "code",
   "execution_count": null,
   "metadata": {},
   "outputs": [],
   "source": []
  }
 ],
 "metadata": {
  "kernelspec": {
   "display_name": "Python 3",
   "language": "python",
   "name": "python3"
  },
  "language_info": {
   "codemirror_mode": {
    "name": "ipython",
    "version": 3
   },
   "file_extension": ".py",
   "mimetype": "text/x-python",
   "name": "python",
   "nbconvert_exporter": "python",
   "pygments_lexer": "ipython3",
   "version": "3.8.3"
  }
 },
 "nbformat": 4,
 "nbformat_minor": 4
}
