{
 "cells": [
  {
   "cell_type": "markdown",
   "metadata": {},
   "source": [
    "# 9.7 Additional Notes Regarding Files"
   ]
  },
  {
   "cell_type": "markdown",
   "metadata": {},
   "source": [
    "- **'r'** ```Open a text file for reading. This is the default if you do not specify the file-open mode when you call open.```<br><br>\n",
    "- **'w'** ```Open a text file for writing. Existing file contents are *deleted*.```<br><br>\n",
    "- **'a'** ```Open a text file for appending at the end, creating the file if it does not exist. New data is written at the end of the file.```<br><br>\n",
    "- **'r+'** ```Open a text file reading and writing.```<br><br>\n",
    "- **'w+'** ```Open a text file reading and writing. Existing file contents are *deleted*.```<br><br>\n",
    "- **'a+'** ```Open a text file reading and appending at the end. New data is written at the end of the file. If the file does not exist, it is created.```"
   ]
  }
 ],
 "metadata": {
  "kernelspec": {
   "display_name": "Python 3",
   "language": "python",
   "name": "python3"
  },
  "language_info": {
   "codemirror_mode": {
    "name": "ipython",
    "version": 3
   },
   "file_extension": ".py",
   "mimetype": "text/x-python",
   "name": "python",
   "nbconvert_exporter": "python",
   "pygments_lexer": "ipython3",
   "version": "3.8.3"
  }
 },
 "nbformat": 4,
 "nbformat_minor": 4
}
