{
 "cells": [
  {
   "cell_type": "markdown",
   "metadata": {},
   "source": [
    "# 9.2 Files"
   ]
  },
  {
   "cell_type": "markdown",
   "metadata": {},
   "source": [
    "Python views a **text file** as a sequence of characters and a **binary file** (for images, videos and more) as a sequence of bytes. As in lists and arrays, the first character in a text file and byte in a binary file is located at position 0, so in a fle of *n* characters or bytes, the highest position number is *n* - 1."
   ]
  },
  {
   "cell_type": "markdown",
   "metadata": {},
   "source": [
    "### End of File\n",
    "Every operating system provides a mechanism to denote the end of a file. Some present it with an **end-of-file marker**, while others might maintain a count of the total characters or butes in the file. Programming languages generally hide these operating-system details from you."
   ]
  },
  {
   "cell_type": "markdown",
   "metadata": {},
   "source": [
    "### Standard File Objects\n",
    "When a Python program begins execution, it creates three **standard file objects**:\n",
    "- **sys.stdin** the **standard input file object**\n",
    "- **sys.stdout** the **standard output file object**, and\n",
    "- **sys.stderr** the **standard error file object**\n",
    "\n",
    "You must import the *sys* module if you need to refer to these objects explicitly in your code, but this is rare."
   ]
  }
 ],
 "metadata": {
  "kernelspec": {
   "display_name": "Python 3",
   "language": "python",
   "name": "python3"
  },
  "language_info": {
   "codemirror_mode": {
    "name": "ipython",
    "version": 3
   },
   "file_extension": ".py",
   "mimetype": "text/x-python",
   "name": "python",
   "nbconvert_exporter": "python",
   "pygments_lexer": "ipython3",
   "version": "3.8.3"
  }
 },
 "nbformat": 4,
 "nbformat_minor": 4
}
