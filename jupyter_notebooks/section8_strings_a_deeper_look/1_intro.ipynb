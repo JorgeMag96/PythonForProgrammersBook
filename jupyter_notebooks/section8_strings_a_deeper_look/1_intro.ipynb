{
 "cells": [
  {
   "cell_type": "markdown",
   "metadata": {},
   "source": [
    "# 8 Strings: A Deeper Look\n",
    "## 8.1 Intro"
   ]
  },
  {
   "cell_type": "markdown",
   "metadata": {},
   "source": [
    "We've introduced strings, basic string formatting and several string operators and methods.\n",
    "You saw that strings support many of the same sequence operations as lists and tuples, and that strings, like tuples, are immutable. Now, we take a deeper look at strings and introduce regular expressions and the re module, which we'll use to match patterns in text. Regular expressions are particularly important in today's data rich applications. **The capabilities presented here will help you prepare for the \"Natural Language Processing (NLP)\" chapter and other key data science chapters.**"
   ]
  }
 ],
 "metadata": {
  "kernelspec": {
   "display_name": "Python 3",
   "language": "python",
   "name": "python3"
  },
  "language_info": {
   "codemirror_mode": {
    "name": "ipython",
    "version": 3
   },
   "file_extension": ".py",
   "mimetype": "text/x-python",
   "name": "python",
   "nbconvert_exporter": "python",
   "pygments_lexer": "ipython3",
   "version": "3.8.3"
  }
 },
 "nbformat": 4,
 "nbformat_minor": 4
}
